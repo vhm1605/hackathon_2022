{
 "cells": [
  {
   "cell_type": "code",
   "execution_count": null,
   "metadata": {},
   "outputs": [],
   "source": [
    "import os\n",
    "import os.path as osp\n",
    "import time\n",
    "import datetime\n",
    "import random\n",
    "from PIL import Image\n",
    "import numpy as np\n",
    "from sklearn.metrics import accuracy_score\n",
    "import torch.nn as nn\n",
    "from torch.autograd import Function\n",
    "import torch.optim as optim\n",
    "import torch.nn.functional as F\n",
    "import tensorflow as tf\n",
    "import torch\n",
    "import pandas as pd\n",
    "import torch.utils.data as data\n",
    "from torch.utils.data import Dataset, TensorDataset, DataLoader, RandomSampler, SequentialSampler, WeightedRandomSampler\n",
    "import logging\n",
    "from torchvision import datasets,transforms, models\n",
    "import tqdm\n",
    "import glob\n",
    "import matplotlib.image as image\n",
    "from PIL import Image"
   ]
  },
  {
   "cell_type": "code",
   "execution_count": null,
   "metadata": {},
   "outputs": [],
   "source": [
    "# Download YOLOv7 code\n",
    "!git clone https://github.com/WongKinYiu/yolov7\n",
    "%cd yolov7"
   ]
  },
  {
   "cell_type": "code",
   "execution_count": null,
   "metadata": {},
   "outputs": [],
   "source": [
    "from models.yolo import Model\n",
    "from utils.general import check_requirements, set_logging\n",
    "from utils.google_utils import attempt_download\n",
    "from utils.torch_utils import select_device\n",
    "from  hubconf import custom\n",
    "model = custom(path_or_model='best.pt', autoshape = True) \n",
    "\n",
    "model.conf = 0.1"
   ]
  },
  {
   "cell_type": "code",
   "execution_count": null,
   "metadata": {},
   "outputs": [],
   "source": [
    "from PIL import Image\n",
    "\n",
    "img = Image.open('/kaggle/input/hsgshackathon2021/Test_data/Test/video_60a/frame_003852.PNG')\n",
    "\n",
    "result = model(img)\n",
    "print(result.pandas().xyxy[0])\n",
    "# Run evaluation\n",
    "!python detect.py --weights /kaggle/input/dambong/best.pt --conf 0.1 --source /kaggle/input/hsgshackathon2021/Test_data/Test/video_60a/frame_003852.PNG"
   ]
  },
  {
   "cell_type": "code",
   "execution_count": null,
   "metadata": {},
   "outputs": [],
   "source": [
    "import glob\n",
    "from IPython.display import Image, display\n",
    "\n",
    "i = 0\n",
    "limit = 10000 # max images to print\n",
    "for imageName in glob.glob('/kaggle/working/yolov7/runs/detect/exp4/frame_003852.PNG'): #assuming JPG\n",
    "    if i < limit:\n",
    "      display(Image(filename=imageName))\n",
    "      print(\"\\n\")\n",
    "    i = i + 1"
   ]
  },
  {
   "cell_type": "code",
   "execution_count": null,
   "metadata": {},
   "outputs": [],
   "source": [
    "#TEST_DATA\n",
    "from PIL import Image\n",
    "test_data = np.array([])\n",
    "ans = []\n",
    "test_pred = []\n",
    "for r, dirnames, fn in os.walk('/kaggle/input/hsgshackathon2021/Test_data/Test'):\n",
    "    for dirname in sorted(dirnames):\n",
    "       # print(dirname)\n",
    "        cur_path = '/kaggle/input/hsgshackathon2021/Test_data/Test' + '/' + dirname\n",
    "        for filename in sorted(os.listdir(cur_path)):\n",
    "             ans.append((dirname+'_'+filename))\n",
    "             ans[(len(ans)-1)]=ans[(len(ans)-1)].strip('.PNG')\n",
    "             img = Image.open((cur_path+'/'+filename))\n",
    "             if dirname =='video_20b':\n",
    "                img = img.rotate(90)\n",
    "             result = model(img)\n",
    "             table = result.pandas().xyxy[0]\n",
    "             ball = []\n",
    "             hand = []\n",
    "             for i in range(0, len(table)):\n",
    "                    if table.name[i] == '0':\n",
    "                        ball1 = []\n",
    "                        ball1.append(table.xmin[i])\n",
    "                        ball1.append(table.xmax[i])\n",
    "                        ball1.append(table.ymin[i])\n",
    "                        ball1.append(table.ymax[i])\n",
    "                        ball.append(ball1)\n",
    "                    elif table.name[i] == '1':\n",
    "                        hand1 = []\n",
    "                        hand1.append(table.xmin[i])\n",
    "                        hand1.append(table.xmax[i])\n",
    "                        hand1.append(table.ymin[i])\n",
    "                        hand1.append(table.ymax[i])\n",
    "                        hand.append(hand1)\n",
    "             mx = 0\n",
    "            \n",
    "             for i in ball:\n",
    "                    for j in (hand):\n",
    "                        ballxmin = i[0]\n",
    "                        ballxmax = i[1]\n",
    "                        ballymin = i[2]\n",
    "                        ballymax = i[3]\n",
    "                        handxmin = j[0]\n",
    "                        handxmax = j[1]\n",
    "                        handymin = j[2]\n",
    "                        handymax = j[3]\n",
    "                        if ballxmin <= handxmax and handxmax <= ballxmax and (not(ballymin>handymax or handymin>ballymax)):\n",
    "                            mx = 1\n",
    "                        if handxmin <= ballxmax and ballxmax <= handxmax and (not(ballymin>handymax or handymin>ballymax)): \n",
    "                            mx = 1\n",
    "                        if (abs(ballxmin-handxmax) <= 4) and (not(ballymin>handymax or handymin>ballymax)):\n",
    "                            mx = 1\n",
    "                        if abs(ballxmax-handxmin) <= 4 and (not(ballymin>handymax or handymin>ballymax)):\n",
    "                            mx = 1\n",
    "             test_pred.append(mx)\n",
    "        \n",
    "           #  img = img.resize(224, 224)"
   ]
  },
  {
   "cell_type": "code",
   "execution_count": null,
   "metadata": {},
   "outputs": [],
   "source": [
    "submission = pd.DataFrame(data=zip(ans,test_pred),columns=[\"Frame\",\"Label\"])\n",
    "submission.head()\n",
    "print(submission)"
   ]
  }
 ],
 "metadata": {
  "language_info": {
   "name": "python"
  },
  "orig_nbformat": 4
 },
 "nbformat": 4,
 "nbformat_minor": 2
}
